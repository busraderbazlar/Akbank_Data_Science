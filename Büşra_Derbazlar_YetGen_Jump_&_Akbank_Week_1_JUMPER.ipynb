{
  "nbformat": 4,
  "nbformat_minor": 0,
  "metadata": {
    "colab": {
      "provenance": [],
      "collapsed_sections": [],
      "include_colab_link": true
    },
    "kernelspec": {
      "name": "python3",
      "display_name": "Python 3"
    },
    "language_info": {
      "name": "python"
    }
  },
  "cells": [
    {
      "cell_type": "markdown",
      "metadata": {
        "id": "view-in-github",
        "colab_type": "text"
      },
      "source": [
        "<a href=\"https://colab.research.google.com/github/busraderbazlar/Akbank_Data_Science/blob/master/B%C3%BC%C5%9Fra_Derbazlar_YetGen_Jump_%26_Akbank_Week_1_JUMPER.ipynb\" target=\"_parent\"><img src=\"https://colab.research.google.com/assets/colab-badge.svg\" alt=\"Open In Colab\"/></a>"
      ]
    },
    {
      "cell_type": "markdown",
      "source": [
        "# ***Data Types and Operations***"
      ],
      "metadata": {
        "id": "z3TtgY0h4fWH"
      }
    },
    {
      "cell_type": "code",
      "source": [
        "# QUESTION 0\n",
        "# A bag can contain 5 items and there are 12 full bags.\n",
        "\n",
        "# Task 1: Calculate how many items we have\n",
        "# Solution 1:\n",
        "# YOUR CODE #\n",
        "bag_num= 12\n",
        "bag_cont_items= 5\n",
        "num_items = bag_num*bag_cont_items\n",
        "print(num_items)\n",
        "# Task 2: If we want to store our items in different bags which can carry 7 item. How many items cannot fit the bags?\n",
        "# YOUR CODE #\n",
        "cannot_fit_items = num_items % 7 \n",
        "print(cannot_fit_items)\n",
        "\n",
        "\n"
      ],
      "metadata": {
        "colab": {
          "base_uri": "https://localhost:8080/"
        },
        "id": "N5EKjz5nMRVn",
        "outputId": "462701cf-3d68-41c4-e47b-2ec653fb09a7"
      },
      "execution_count": 3,
      "outputs": [
        {
          "output_type": "stream",
          "name": "stdout",
          "text": [
            "60\n",
            "4\n"
          ]
        }
      ]
    },
    {
      "cell_type": "code",
      "source": [
        "# QUESTION 1\n",
        "\n",
        "# Create a variable called \"var1\" by calculating the square of 25, \n",
        "# and create a variable called \"var2\" by calculating 3452 dividing by 1.6\n",
        "# Task: Print types of each variable and print the comparisin of these two types\n",
        "\n",
        "# YOUR CODE #\n",
        "\n",
        "Var1= 25*25\n",
        "Var2= 3452/1.6\n",
        "print(type(Var1),type(Var2))\n",
        "print(Var1==Var2)\n"
      ],
      "metadata": {
        "colab": {
          "base_uri": "https://localhost:8080/"
        },
        "id": "RqtlPAU8HKIb",
        "outputId": "2d07e8f4-c4cf-4e1a-b138-2c93d9dcdc59"
      },
      "execution_count": 4,
      "outputs": [
        {
          "output_type": "stream",
          "name": "stdout",
          "text": [
            "<class 'int'> <class 'float'>\n",
            "False\n"
          ]
        }
      ]
    },
    {
      "cell_type": "code",
      "source": [
        "# QUESTION 2\n",
        "\n",
        "# By using the given \"words\" list, print(\"Data Science Week 2\")\n",
        "words = [2, 1, \"Science\", \"Data\", \"Week\"]\n",
        "\n",
        "# Solution\n",
        "# YOUR CODE #\n",
        "\n",
        "print(f\"{words[3]} {words[2]} {words[4]} {words[0]}\")\n"
      ],
      "metadata": {
        "colab": {
          "base_uri": "https://localhost:8080/"
        },
        "id": "z5ucKXnCGbu9",
        "outputId": "69880245-26c9-4d90-967f-79abfa62032d"
      },
      "execution_count": 5,
      "outputs": [
        {
          "output_type": "stream",
          "name": "stdout",
          "text": [
            "Data Science Week 2\n"
          ]
        }
      ]
    },
    {
      "cell_type": "code",
      "execution_count": null,
      "metadata": {
        "id": "z0cDkoWnvhv-"
      },
      "outputs": [],
      "source": [
        "# QUESTION 3\n",
        "\n",
        "# compute given expression below by using values x,y and assign the result to variable \"out\"\n",
        "# EXPRESSION: x^3 + 5xy + 1 - y^2\n",
        "x = 1.5\n",
        "y = 10\n",
        "\n",
        "# Solution \n",
        "# YOUR CODE #\n",
        "\n"
      ]
    },
    {
      "cell_type": "code",
      "source": [
        "# QUESTION 4\n",
        "\n",
        "# Sentence: I love YetGen Jump & Akbank Data Science Education Program\n",
        "# Task: Convert the \"Sentence\" to a list, print length of the list and the value in third index\n",
        "sentence = \"I love YetGen Jump & Akbank Data Science Education Program\"\n",
        "# YOUR CODE #\n",
        "sentence_list= list(sentence.split(\" \"))\n",
        "len_sentence_list = len(sentence_list)\n",
        "print(len_sentence_list)\n",
        "print(sentence_list[3])"
      ],
      "metadata": {
        "colab": {
          "base_uri": "https://localhost:8080/"
        },
        "id": "NrEDrF0LIItm",
        "outputId": "c355acdb-d946-4eee-821a-00f85ae73d54"
      },
      "execution_count": 11,
      "outputs": [
        {
          "output_type": "stream",
          "name": "stdout",
          "text": [
            "10\n",
            "Jump\n"
          ]
        }
      ]
    },
    {
      "cell_type": "code",
      "source": [
        "# QUESTION 5\n",
        "\n",
        "# There are two mail adresses in a tuple called \"mails\". \n",
        "# Print each mail adresses's domain (@gmail.com etc.)\n",
        "# Check if the domain (@gmail.com etc.) of two mail adresses are the same.\n",
        "mails = (\"yetgenjump@yetkingencler.com\", \"iletisim@yetkingencler.com\")\n",
        "\n",
        "# Solution\n",
        "# YOUR CODE #\n",
        "domain = mails[0].split(\"@\"), mails[1].split(\"@\")\n",
        "print(domain)\n",
        "print(domain[0][1]==domain[1][1])\n",
        "\n"
      ],
      "metadata": {
        "colab": {
          "base_uri": "https://localhost:8080/"
        },
        "id": "GY5h2BEiIrvQ",
        "outputId": "f85bb068-6845-49b1-af70-801ae4ca6ad0"
      },
      "execution_count": 19,
      "outputs": [
        {
          "output_type": "stream",
          "name": "stdout",
          "text": [
            "(['yetgenjump', 'yetkingencler.com'], ['iletisim', 'yetkingencler.com'])\n",
            "True\n"
          ]
        }
      ]
    },
    {
      "cell_type": "markdown",
      "source": [
        "# ***Data Structures***"
      ],
      "metadata": {
        "id": "YdMAzoY94uAZ"
      }
    },
    {
      "cell_type": "code",
      "source": [
        "# QUESTION 6\n",
        "\n",
        "# Print summer months by slicing given list \"months\"\n",
        "months = [\"January\",\"February\",\"March\",\"April\",\"May\",\"June\",\"July\",\"August\",\"September\",\"October\",\"November\",\"December\"]\n",
        "\n",
        "# Solution\n",
        "# YOUR CODE #\n",
        "\n"
      ],
      "metadata": {
        "colab": {
          "base_uri": "https://localhost:8080/"
        },
        "id": "JPLZ3lg_5Xbw",
        "outputId": "b1cbf38e-5ec8-45fd-c160-134840863889"
      },
      "execution_count": null,
      "outputs": [
        {
          "output_type": "stream",
          "name": "stdout",
          "text": [
            "['June', 'July', 'August']\n"
          ]
        }
      ]
    },
    {
      "cell_type": "code",
      "source": [
        "# QUESTION 7\n",
        "\n",
        "# Print last three months in the same line and add \"-\" between elements\n",
        "# YOUR CODE #\n",
        "\n"
      ],
      "metadata": {
        "colab": {
          "base_uri": "https://localhost:8080/"
        },
        "id": "1DlK92Zg7WDP",
        "outputId": "3133da14-5a16-4079-832a-2546b3fb1dd1"
      },
      "execution_count": null,
      "outputs": [
        {
          "output_type": "stream",
          "name": "stdout",
          "text": [
            "October-November-December\n"
          ]
        }
      ]
    },
    {
      "cell_type": "code",
      "source": [
        "# QUESTION 8\n",
        "\n",
        "# Sort the months list alpabeticaly and print first three elements\n",
        "# YOUR CODE #\n",
        "\n"
      ],
      "metadata": {
        "colab": {
          "base_uri": "https://localhost:8080/"
        },
        "id": "o_GXzLzy7u6l",
        "outputId": "f41a6530-f306-4bf8-eea4-f7ff15249305"
      },
      "execution_count": null,
      "outputs": [
        {
          "output_type": "stream",
          "name": "stdout",
          "text": [
            "['April', 'August', 'December']\n"
          ]
        }
      ]
    },
    {
      "cell_type": "code",
      "source": [
        "# QUESTION 9\n",
        "\n",
        "# Score Board ordered as high scores. Find the position of \"Tuna\". And change the Tuna's position to first.\n",
        "score_board = [\"Yeliz\",\"Ahmet\",\"Cagri\",\"Tuna\",\"Alp\"]\n",
        "\n",
        "# Solution\n",
        "# YOUR CODE #\n",
        "\n"
      ],
      "metadata": {
        "colab": {
          "base_uri": "https://localhost:8080/"
        },
        "id": "vuqF_MZB8UHa",
        "outputId": "2244c08e-fd17-48bc-c9b0-a7d21b9ecd51"
      },
      "execution_count": null,
      "outputs": [
        {
          "output_type": "stream",
          "name": "stdout",
          "text": [
            "['Tuna', 'Yeliz', 'Ahmet', 'Cagri', 'Alp']\n"
          ]
        }
      ]
    },
    {
      "cell_type": "code",
      "source": [
        "# QUESTION 10\n",
        "\n",
        "# dictionary \"days\" contains 5 week-days and lectures for each day. Print Thuesday's lecture.\n",
        "days = {\n",
        "    \"Monday\": \"Calculus\",\n",
        "    \"Thuesday\": \"Int. Data Science\",\n",
        "    \"Wednesday\": \"Statistics\",\n",
        "    \"Thursday\": \"Modern Art\",\n",
        "    \"Fridat\": \"Advanced Programming\"\n",
        "}\n",
        "\n",
        "# Solution\n",
        "# YOUR CODE #\n",
        "\n"
      ],
      "metadata": {
        "colab": {
          "base_uri": "https://localhost:8080/"
        },
        "id": "BOw6BpYc9Ca7",
        "outputId": "0952c6e2-ffb3-4044-8315-3b65bcd594f2"
      },
      "execution_count": null,
      "outputs": [
        {
          "output_type": "stream",
          "name": "stdout",
          "text": [
            "Int. Data Science\n"
          ]
        }
      ]
    },
    {
      "cell_type": "code",
      "source": [
        "# QUESTION 11\n",
        "\n",
        "# dictionary \"scores\" contains three different students grades. Print max grade of Anil\n",
        "scores = {\n",
        "    \"Alp\":[46,89,100],\n",
        "    \"Irem\":[34,90,89],\n",
        "    \"Anil\":[10,68,65]\n",
        "}\n",
        "\n",
        "# Solution\n",
        "# YOUR CODE #\n",
        "\n"
      ],
      "metadata": {
        "colab": {
          "base_uri": "https://localhost:8080/"
        },
        "id": "AhcJZUSqAxkw",
        "outputId": "0803b345-57cc-4c27-c0fa-6091dfbf8557"
      },
      "execution_count": null,
      "outputs": [
        {
          "output_type": "stream",
          "name": "stdout",
          "text": [
            "68\n"
          ]
        }
      ]
    },
    {
      "cell_type": "code",
      "source": [
        "# QUESTION 12\n",
        "\n",
        "# dictionary \"scores\" contains three different students grades.\n",
        "# Using \"scores\" dictionary, create dictionary called \"min_scores\", which keys are students and values are minimum grades\n",
        "scores = {\n",
        "    \"Alp\":[46,89,100],\n",
        "    \"Irem\":[34,90,89],\n",
        "    \"Anil\":[10,68,65]\n",
        "}\n",
        "\n",
        "# Solution\n",
        "min_scores = {\n",
        "    \"Alp\": min(scores[\"Alp\"]),\n",
        "    \"Irem\": min(scores[\"Irem\"]),\n",
        "    \"Anil\": min(scores[\"Anil\"])\n",
        "}\n",
        "\n",
        "print(min_scores)"
      ],
      "metadata": {
        "colab": {
          "base_uri": "https://localhost:8080/"
        },
        "id": "W4oXWkcpBSyp",
        "outputId": "20c51f16-3569-4b65-ef25-b23a258423fc"
      },
      "execution_count": null,
      "outputs": [
        {
          "output_type": "stream",
          "name": "stdout",
          "text": [
            "{'Alp': 46, 'Irem': 34, 'Anil': 10}\n"
          ]
        }
      ]
    },
    {
      "cell_type": "code",
      "source": [
        "# QUESTION 13\n",
        "\n",
        "# dictionary items hold item ids as keys and properties as values\n",
        "# ids list contains product ids\n",
        "# find the greatest id in ids list and print its stock value\n",
        "\n",
        "ids = [83,98,67]\n",
        "items = {\n",
        "    83 : {\n",
        "        \"stock\": 100,\n",
        "        \"price\": 89.08\n",
        "    },\n",
        "    98 : {\n",
        "        \"stock\": 7546,\n",
        "        \"price\": 23.12\n",
        "    },\n",
        "    67 : {\n",
        "        \"stock\": 0,\n",
        "        \"price\": 4.5\n",
        "    }\n",
        "}\n",
        "\n",
        "# Solution\n",
        "# YOUR CODE #\n",
        "\n",
        "\n"
      ],
      "metadata": {
        "colab": {
          "base_uri": "https://localhost:8080/"
        },
        "id": "ltdLeP9RCGuk",
        "outputId": "4b39bd5e-2f17-42c0-e9f2-e1177024ddcc"
      },
      "execution_count": null,
      "outputs": [
        {
          "output_type": "stream",
          "name": "stdout",
          "text": [
            "7546\n"
          ]
        }
      ]
    },
    {
      "cell_type": "code",
      "source": [
        "# QUESTION 14\n",
        "\n",
        "# dictionary items hold item ids as keys and properties as values\n",
        "# ids list contains product ids\n",
        "# find the smallest id in ids list and calculate max money you can get by selling all the stock\n",
        "# if you make 35% discount, calculate new result\n",
        "# print results in format \"Max Money: ... , With Discount: ...\"\n",
        "\n",
        "ids = [83,98,67]\n",
        "items = {\n",
        "    83 : {\n",
        "        \"stock\": 100,\n",
        "        \"price\": 89.08\n",
        "    },\n",
        "    98 : {\n",
        "        \"stock\": 7546,\n",
        "        \"price\": 23.12\n",
        "    },\n",
        "    67 : {\n",
        "        \"stock\": 1642,\n",
        "        \"price\": 4.5\n",
        "    }\n",
        "}\n",
        "\n",
        "# Solution\n",
        "# YOUR CODE #\n",
        "\n",
        "\n"
      ],
      "metadata": {
        "colab": {
          "base_uri": "https://localhost:8080/"
        },
        "id": "qb8EzU9aDORM",
        "outputId": "38fdc9b9-000b-4d6f-8f25-89c18bc5a3bb"
      },
      "execution_count": null,
      "outputs": [
        {
          "output_type": "stream",
          "name": "stdout",
          "text": [
            "Max Money: 7389.0, with Discount: 4802.85\n"
          ]
        }
      ]
    }
  ]
}