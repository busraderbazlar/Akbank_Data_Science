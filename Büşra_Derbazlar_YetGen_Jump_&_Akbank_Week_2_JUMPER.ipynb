{
  "nbformat": 4,
  "nbformat_minor": 0,
  "metadata": {
    "colab": {
      "provenance": [],
      "include_colab_link": true
    },
    "kernelspec": {
      "name": "python3",
      "display_name": "Python 3"
    },
    "language_info": {
      "name": "python"
    }
  },
  "cells": [
    {
      "cell_type": "markdown",
      "metadata": {
        "id": "view-in-github",
        "colab_type": "text"
      },
      "source": [
        "<a href=\"https://colab.research.google.com/github/busraderbazlar/Akbank_Data_Science/blob/master/B%C3%BC%C5%9Fra_Derbazlar_YetGen_Jump_%26_Akbank_Week_2_JUMPER.ipynb\" target=\"_parent\"><img src=\"https://colab.research.google.com/assets/colab-badge.svg\" alt=\"Open In Colab\"/></a>"
      ]
    },
    {
      "cell_type": "code",
      "execution_count": 2,
      "metadata": {
        "id": "wkbsORRt2j2Q",
        "colab": {
          "base_uri": "https://localhost:8080/"
        },
        "outputId": "799041fa-f90b-4fcb-9238-331830947db2"
      },
      "outputs": [
        {
          "output_type": "stream",
          "name": "stdout",
          "text": [
            "False\n",
            "True\n"
          ]
        }
      ],
      "source": [
        "# QUESTION 1 #\n",
        "# Write a function that accepts an integer value as an input\n",
        "# and return True if the value is divisable with 7\n",
        "# - do not forget to test the function\n",
        "def func1(x):\n",
        "    if x % 7 == 0:\n",
        "      return True\n",
        "    else:\n",
        "      return False\n",
        "\n",
        "print(func1(10))\n",
        "print(func1(14))"
      ]
    },
    {
      "cell_type": "code",
      "source": [
        "# QUESTION 2 #\n",
        "# Write a function that accepts a list and a integer (x) as input\n",
        "# return first value of list which is greater then the input integer x\n",
        "def func2(x, user_list):\n",
        "    for value in user_list:\n",
        "      if value >= x:\n",
        "        return value\n",
        "\n",
        "my_list = [6,3,6,10,0,4,2,7,]\n",
        "func2(10, my_list)"
      ],
      "metadata": {
        "id": "4-aKJWk62tkH",
        "colab": {
          "base_uri": "https://localhost:8080/"
        },
        "outputId": "5b42ff23-d8c6-4143-a7b5-833da34678f0"
      },
      "execution_count": 4,
      "outputs": [
        {
          "output_type": "execute_result",
          "data": {
            "text/plain": [
              "10"
            ]
          },
          "metadata": {},
          "execution_count": 4
        }
      ]
    },
    {
      "cell_type": "code",
      "source": [
        "# QUESTION 3 #\n",
        "# Write a function that accepts an integer as input\n",
        "# prints a sequence that increments 5, 10 times.\n",
        "# Ex:\n",
        "# input -> 4\n",
        "# output -> 4, 9, 14, 19, 24, 29, 34, 39, 44, 49\n",
        "def func3(x):\n",
        "    ...\n",
        "\n",
        "func3(4)"
      ],
      "metadata": {
        "colab": {
          "base_uri": "https://localhost:8080/"
        },
        "id": "M-MON5Iz47f1",
        "outputId": "62b79cb4-7ff0-4666-962b-fdfd0c948d5b"
      },
      "execution_count": null,
      "outputs": [
        {
          "output_type": "stream",
          "name": "stdout",
          "text": [
            "4\n",
            "9\n",
            "14\n",
            "19\n",
            "24\n",
            "29\n",
            "34\n",
            "39\n",
            "44\n",
            "49\n"
          ]
        }
      ]
    },
    {
      "cell_type": "code",
      "source": [
        "# QUESTION 4 #\n",
        "# Write a function that prints given dictionary's (\"students\")\n",
        "# key and value pairs as follows (you need to use for loop)\n",
        "# key : value\n",
        "students = {\n",
        "    \"student_id1\" : \"student_name1\",\n",
        "    \"student_id2\" : \"student_name2\",\n",
        "    \"student_id3\" : \"student_name3\",\n",
        "    \"student_id4\" : \"student_name4\",\n",
        "    \"student_id5\" : \"student_name5\"\n",
        "}\n",
        "\n",
        "def func4(students):\n",
        "    ...\n",
        "\n",
        "func4(students)"
      ],
      "metadata": {
        "colab": {
          "base_uri": "https://localhost:8080/"
        },
        "id": "i_DzAIlE5wsD",
        "outputId": "fdccf3cf-80c6-4c12-a535-dceb631b0fba"
      },
      "execution_count": null,
      "outputs": [
        {
          "output_type": "stream",
          "name": "stdout",
          "text": [
            "student_id1 : student_name1\n",
            "student_id2 : student_name2\n",
            "student_id3 : student_name3\n",
            "student_id4 : student_name4\n",
            "student_id5 : student_name5\n"
          ]
        }
      ]
    },
    {
      "cell_type": "code",
      "source": [
        "# QUESTIONS 5 #\n",
        "# a list of integers \"a\" is given\n",
        "# Using a while loop, pop elements from list until element size of a\n",
        "# is equals to 5\n",
        "# create an empty list and append poped elements to this list \"b\"\n",
        "a = [1,2,3,4,5,6,7,8,9,10,11,12,13,14,15,16]\n",
        "b = []\n",
        "# YOUR CODE HERE #\n",
        "\n",
        "\n",
        "\n",
        "print(a)\n",
        "print(b)"
      ],
      "metadata": {
        "colab": {
          "base_uri": "https://localhost:8080/"
        },
        "id": "s-YgLhQe7ZbZ",
        "outputId": "4e6c515d-4a28-442a-d6a6-880aff65a894"
      },
      "execution_count": null,
      "outputs": [
        {
          "output_type": "stream",
          "name": "stdout",
          "text": [
            "[1, 2, 3, 4, 5]\n",
            "[16, 15, 14, 13, 12, 11, 10, 9, 8, 7, 6]\n"
          ]
        }
      ]
    },
    {
      "cell_type": "code",
      "source": [
        "# QUESTION 6 #\n",
        "# Write a function that ask user input until the input is\n",
        "# divisable to 9\n",
        "\n",
        "def func6():\n",
        "    ...\n",
        "\n",
        "func6()"
      ],
      "metadata": {
        "colab": {
          "base_uri": "https://localhost:8080/"
        },
        "id": "MZJSjJcp87r5",
        "outputId": "d137d433-ecf3-407e-a2a1-ce76cc5542b3"
      },
      "execution_count": null,
      "outputs": [
        {
          "name": "stdout",
          "output_type": "stream",
          "text": [
            "Enter a number: 5\n",
            "Enter a number: 7\n",
            "Enter a number: 10\n",
            "Enter a number: 18\n"
          ]
        }
      ]
    },
    {
      "cell_type": "code",
      "source": [
        "# QUESTION 7 #\n",
        "# two lists (a and b) using zip() method print element pairs\n",
        "# located in same index\n",
        "a = [\"apple\", \"melon\", \"banana\"]\n",
        "b = [0.67, 3.6, 15.6]\n",
        "\n",
        "# YOUR CODE HERE\n"
      ],
      "metadata": {
        "colab": {
          "base_uri": "https://localhost:8080/"
        },
        "id": "75XEEvNo--X1",
        "outputId": "dc87102e-b5e7-4479-8c2e-976fc8cd4c9a"
      },
      "execution_count": null,
      "outputs": [
        {
          "output_type": "stream",
          "name": "stdout",
          "text": [
            "apple 0.67\n",
            "melon 3.6\n",
            "banana 15.6\n"
          ]
        }
      ]
    },
    {
      "cell_type": "code",
      "source": [
        "# QUESTION 8 # REF: UDACITY\n",
        "\"\"\"\n",
        "Use zip to write a for loop that creates a string \n",
        "specifying the label and coordinates of each point \n",
        "and appends it to the list points. Each string should be \n",
        "formatted as label: x, y, z. For example, \n",
        "the string for the first coordinate should be F: 23, 677, 4.\n",
        "\"\"\"\n",
        "\n",
        "x_coord = [23, 53, 2, -12, 95, 103, 14, -5]\n",
        "y_coord = [677, 233, 405, 433, 905, 376, 432, 445]\n",
        "z_coord = [4, 16, -6, -42, 3, -6, 23, -1]\n",
        "labels = [\"F\", \"J\", \"A\", \"Q\", \"Y\", \"B\", \"W\", \"X\"]\n",
        "\n",
        "points = []\n",
        "# write your for loop here\n",
        "\n"
      ],
      "metadata": {
        "id": "-JM9n-TNABAp"
      },
      "execution_count": null,
      "outputs": []
    },
    {
      "cell_type": "code",
      "source": [
        "# QUESTION 9 #\n",
        "# Write a function that accepts list x as an input\n",
        "# and using list comprehensions return a list with squared values\n",
        "# ex:\n",
        "# input -> [1,2,5]\n",
        "# output -> [1,4,25]\n",
        "\n",
        "def func9(x):\n",
        "    ...\n",
        "\n",
        "a = [3,5,7,8,3]\n",
        "print(func9(a))"
      ],
      "metadata": {
        "colab": {
          "base_uri": "https://localhost:8080/"
        },
        "id": "e34J5rh2Ae0k",
        "outputId": "a85432d5-303e-4170-b9bc-9d27db7e8eaf"
      },
      "execution_count": null,
      "outputs": [
        {
          "output_type": "stream",
          "name": "stdout",
          "text": [
            "[9, 25, 49, 64, 9]\n"
          ]
        }
      ]
    },
    {
      "cell_type": "code",
      "source": [
        "# QUESTION 10 #\n",
        "# Write a function with \"lambda\" expression that\n",
        "# simle power function for example\n",
        "# x: 3 y: 2, calculates 3^2 = 9\n",
        "\n",
        "# YOUR CODE HERE #"
      ],
      "metadata": {
        "colab": {
          "base_uri": "https://localhost:8080/"
        },
        "id": "m0EhPAxDBF7G",
        "outputId": "4f959e4d-f409-4143-b812-73e0e61dfaef"
      },
      "execution_count": null,
      "outputs": [
        {
          "output_type": "execute_result",
          "data": {
            "text/plain": [
              "9"
            ]
          },
          "metadata": {},
          "execution_count": 1
        }
      ]
    },
    {
      "cell_type": "code",
      "source": [
        "# QUESTION 11 #\n",
        "# Write a function which accepts integer x as input,\n",
        "# Calculates a fibonacci sequence starting from 1\n",
        "# prints x values of the sequence\n",
        "# ex: x = 3\n",
        "# output: 1 1 2\n",
        "\n",
        "def fibo(x):\n",
        "    pass\n",
        "\n",
        "fibo(10)"
      ],
      "metadata": {
        "id": "M6QNrj382QoI"
      },
      "execution_count": null,
      "outputs": []
    },
    {
      "cell_type": "code",
      "source": [
        "# QUESTION 12 #\n",
        "# Python program to print first 10\n",
        "# prime numbers\n",
        "# A function name prime is defined\n",
        "# using def\n",
        "\n",
        "def prime(n):\n",
        "    ...\n",
        " \n",
        "# Driver Code\n",
        "n = 10\n",
        " \n",
        "# print statement\n",
        "print(\"First 10 prime numbers are:  \")\n",
        "prime(n)"
      ],
      "metadata": {
        "colab": {
          "base_uri": "https://localhost:8080/"
        },
        "id": "WsvrWLkvS6P7",
        "outputId": "491e878d-2285-44a3-a3fa-98996658b5fc"
      },
      "execution_count": null,
      "outputs": [
        {
          "output_type": "stream",
          "name": "stdout",
          "text": [
            "First 10 prime numbers are:  \n",
            "1\n",
            "2\n",
            "3\n",
            "5\n",
            "7\n",
            "11\n",
            "13\n",
            "17\n",
            "19\n",
            "23\n"
          ]
        }
      ]
    },
    {
      "cell_type": "code",
      "source": [
        "# QUESTION 13 #\n",
        "## Ask user's name with the use of def function.\n",
        "\n",
        "def asking_username():\n",
        "        ...\n",
        "\n",
        "print(\"Hello, \" + asking_username().title() + \"!\")"
      ],
      "metadata": {
        "colab": {
          "base_uri": "https://localhost:8080/"
        },
        "id": "jeY00AtTVTuN",
        "outputId": "704d8cd3-6ac8-4f7d-e76b-48eab6cbb38e"
      },
      "execution_count": null,
      "outputs": [
        {
          "output_type": "stream",
          "name": "stdout",
          "text": [
            "What's your name? \n",
            "İrem\n",
            "Hello, İrem!\n"
          ]
        }
      ]
    },
    {
      "cell_type": "code",
      "source": [
        "# QUESTION 14 #\n",
        "# Program to double each item in a list using map()\n",
        "\n",
        "my_list = [1, 5, 4, 6, 8, 11, 3, 12]\n",
        "\n",
        "# YOUR CODE HERE #\n",
        "\n",
        "print(new_list)"
      ],
      "metadata": {
        "colab": {
          "base_uri": "https://localhost:8080/"
        },
        "id": "C_Ty61Acj1Kt",
        "outputId": "67fab285-3981-40ba-de42-372998913953"
      },
      "execution_count": null,
      "outputs": [
        {
          "output_type": "stream",
          "name": "stdout",
          "text": [
            "[2, 10, 8, 12, 16, 22, 6, 24]\n"
          ]
        }
      ]
    },
    {
      "cell_type": "code",
      "source": [
        "# QUESTION 15 #\n",
        "#you could write a lambda function that doubles its argument: lambda x: x*2, \n",
        "#and use it with the map function to double all elements in a list\n",
        "\n",
        "my_list = [1, 2, 3, 4, 5, 6]\n",
        "\n",
        "# YOUR CODE HERE #\n",
        "print(new_list) # [2, 4, 6, 8, 10, 12]"
      ],
      "metadata": {
        "colab": {
          "base_uri": "https://localhost:8080/"
        },
        "id": "u_vql6RzknE2",
        "outputId": "d11b5481-2e9e-40d4-a1ec-4221966ce4c6"
      },
      "execution_count": null,
      "outputs": [
        {
          "output_type": "stream",
          "name": "stdout",
          "text": [
            "[2, 4, 6, 8, 10, 12]\n"
          ]
        }
      ]
    }
  ]
}