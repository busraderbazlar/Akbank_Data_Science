{
  "nbformat": 4,
  "nbformat_minor": 0,
  "metadata": {
    "colab": {
      "provenance": [],
      "include_colab_link": true
    },
    "kernelspec": {
      "name": "python3",
      "display_name": "Python 3"
    },
    "language_info": {
      "name": "python"
    }
  },
  "cells": [
    {
      "cell_type": "markdown",
      "metadata": {
        "id": "view-in-github",
        "colab_type": "text"
      },
      "source": [
        "<a href=\"https://colab.research.google.com/github/busraderbazlar/Akbank_Data_Science/blob/master/B%C3%BC%C5%9Fra_Derbazlar_YetGen_Jump_%26_Akbank_Week_2_JUMPER.ipynb\" target=\"_parent\"><img src=\"https://colab.research.google.com/assets/colab-badge.svg\" alt=\"Open In Colab\"/></a>"
      ]
    },
    {
      "cell_type": "code",
      "execution_count": null,
      "metadata": {
        "id": "wkbsORRt2j2Q",
        "colab": {
          "base_uri": "https://localhost:8080/"
        },
        "outputId": "799041fa-f90b-4fcb-9238-331830947db2"
      },
      "outputs": [
        {
          "output_type": "stream",
          "name": "stdout",
          "text": [
            "False\n",
            "True\n"
          ]
        }
      ],
      "source": [
        "# QUESTION 1 #\n",
        "# Write a function that accepts an integer value as an input\n",
        "# and return True if the value is divisable with 7\n",
        "# - do not forget to test the function\n",
        "def func1(x):\n",
        "    if x % 7 == 0:\n",
        "      return True\n",
        "    else:\n",
        "      return False\n",
        "\n",
        "print(func1(10))\n",
        "print(func1(14))"
      ]
    },
    {
      "cell_type": "code",
      "source": [
        "# QUESTION 2 #\n",
        "# Write a function that accepts a list and a integer (x) as input\n",
        "# return first value of list which is greater then the input integer x\n",
        "def func2(x, user_list):\n",
        "    for value in user_list:\n",
        "      if value >= x:\n",
        "        return value\n",
        "\n",
        "my_list = [6,3,6,10,0,4,2,7,]\n",
        "func2(10, my_list)"
      ],
      "metadata": {
        "id": "4-aKJWk62tkH",
        "colab": {
          "base_uri": "https://localhost:8080/"
        },
        "outputId": "5b42ff23-d8c6-4143-a7b5-833da34678f0"
      },
      "execution_count": null,
      "outputs": [
        {
          "output_type": "execute_result",
          "data": {
            "text/plain": [
              "10"
            ]
          },
          "metadata": {},
          "execution_count": 4
        }
      ]
    },
    {
      "cell_type": "code",
      "source": [
        "# QUESTION 3 #\n",
        "# Write a function that accepts an integer as input\n",
        "# prints a sequence that increments 5, 10 times.\n",
        "# Ex:\n",
        "# input -> 4\n",
        "# output -> 4, 9, 14, 19, 24, 29, 34, 39, 44, 49\n",
        "def func3(x):\n",
        "    if type(x) == int:\n",
        "      for i in range(10):\n",
        "        print(x)\n",
        "        x+=5\n",
        "    else:\n",
        "      print(\"Bu sayı integer değildir. Lütfen integer giriniz!\")\n",
        "\n",
        "func3(4)"
      ],
      "metadata": {
        "colab": {
          "base_uri": "https://localhost:8080/"
        },
        "id": "M-MON5Iz47f1",
        "outputId": "44427b84-0ba9-4e58-fd0c-affbacb58010"
      },
      "execution_count": null,
      "outputs": [
        {
          "output_type": "stream",
          "name": "stdout",
          "text": [
            "4\n",
            "9\n",
            "14\n",
            "19\n",
            "24\n",
            "29\n",
            "34\n",
            "39\n",
            "44\n",
            "49\n"
          ]
        }
      ]
    },
    {
      "cell_type": "code",
      "source": [
        "# QUESTION 4 #\n",
        "# Write a function that prints given dictionary's (\"students\")\n",
        "# key and value pairs as follows (you need to use for loop)\n",
        "# key : value\n",
        "students = {\n",
        "    \"student_id1\" : \"student_name1\",\n",
        "    \"student_id2\" : \"student_name2\",\n",
        "    \"student_id3\" : \"student_name3\",\n",
        "    \"student_id4\" : \"student_name4\",\n",
        "    \"student_id5\" : \"student_name5\"\n",
        "}\n",
        "\n",
        "def func4(students):\n",
        "  for key,value in students.items():\n",
        "    print(f\"{key} : {value}\")\n",
        "\n",
        "func4(students)"
      ],
      "metadata": {
        "colab": {
          "base_uri": "https://localhost:8080/"
        },
        "id": "i_DzAIlE5wsD",
        "outputId": "578ee4ff-665a-40f9-c741-9cd5c645d705"
      },
      "execution_count": null,
      "outputs": [
        {
          "output_type": "stream",
          "name": "stdout",
          "text": [
            "student_id1 : student_name1\n",
            "student_id2 : student_name2\n",
            "student_id3 : student_name3\n",
            "student_id4 : student_name4\n",
            "student_id5 : student_name5\n"
          ]
        }
      ]
    },
    {
      "cell_type": "code",
      "source": [
        "from IPython.utils.py3compat import iteritems\n",
        "# QUESTIONS 5 #\n",
        "# a list of integers \"a\" is given\n",
        "# Using a while loop, pop elements from list until element size of a\n",
        "# is equals to 5\n",
        "# create an empty list and append poped elements to this list \"b\"\n",
        "a = [1,2,3,4,5,6,7,8,9,10,11,12,13,14,15,16]\n",
        "b = []\n",
        "# YOUR CODE HERE #\n",
        "\n",
        "while len(a) != 5:\n",
        "     item = a.pop()\n",
        "     b.append(item) \n",
        "\n",
        "print(a)\n",
        "print(b)"
      ],
      "metadata": {
        "colab": {
          "base_uri": "https://localhost:8080/"
        },
        "id": "s-YgLhQe7ZbZ",
        "outputId": "6524da48-ba8f-4a9f-be93-19f57376b78c"
      },
      "execution_count": null,
      "outputs": [
        {
          "output_type": "stream",
          "name": "stdout",
          "text": [
            "[1, 2, 3, 4, 5]\n",
            "[16, 15, 14, 13, 12, 11, 10, 9, 8, 7, 6]\n"
          ]
        }
      ]
    },
    {
      "cell_type": "code",
      "source": [
        "# QUESTION 6 #\n",
        "# Write a function that ask user input until the input is\n",
        "# divisable to 9\n",
        "\n",
        "def func6():\n",
        "    num = int(input(\"Enter the number :\"))\n",
        "    while num % 9 != 0:\n",
        "          num = int(input(\"Enter the number :\"))\n",
        "func6()"
      ],
      "metadata": {
        "colab": {
          "base_uri": "https://localhost:8080/"
        },
        "id": "MZJSjJcp87r5",
        "outputId": "9ba2f208-7764-4daa-ff3d-ebf183b25ba1"
      },
      "execution_count": null,
      "outputs": [
        {
          "name": "stdout",
          "output_type": "stream",
          "text": [
            "Enter the number :4\n",
            "Enter the number :2\n",
            "Enter the number :5\n",
            "Enter the number :18\n"
          ]
        }
      ]
    },
    {
      "cell_type": "code",
      "source": [
        "# QUESTION 7 #\n",
        "# two lists (a and b) using zip() method print element pairs\n",
        "# located in same index\n",
        "a = [\"apple\", \"melon\", \"banana\"]\n",
        "b = [0.67, 3.6, 15.6]\n",
        "\n",
        "# YOUR CODE HERE\n",
        "c = list(zip(a,b))\n",
        "print(f\"\"\"\n",
        "{c[0][0]}  {c[0][1]}\n",
        "{c[1][0]}  {c[1][1]}\n",
        "{c[2][0]}  {c[2][1]}\n",
        "\"\"\")"
      ],
      "metadata": {
        "colab": {
          "base_uri": "https://localhost:8080/"
        },
        "id": "75XEEvNo--X1",
        "outputId": "1548c152-83df-4137-94bf-e2cfe9c92513"
      },
      "execution_count": null,
      "outputs": [
        {
          "output_type": "stream",
          "name": "stdout",
          "text": [
            "\n",
            "apple  0.67\n",
            "melon  3.6\n",
            "banana  15.6\n",
            "\n"
          ]
        }
      ]
    },
    {
      "cell_type": "code",
      "source": [
        "# QUESTION 8 # REF: UDACITY\n",
        "\"\"\"\n",
        "Use zip to write a for loop that creates a string \n",
        "specifying the label and coordinates of each point \n",
        "and appends it to the list points. Each string should be \n",
        "formatted as label: x, y, z. For example, \n",
        "the string for the first coordinate should be F: 23, 677, 4.\n",
        "\"\"\"\n",
        "\n",
        "x_coord = [23, 53, 2, -12, 95, 103, 14, -5]\n",
        "y_coord = [677, 233, 405, 433, 905, 376, 432, 445]\n",
        "z_coord = [4, 16, -6, -42, 3, -6, 23, -1]\n",
        "labels = [\"F\", \"J\", \"A\", \"Q\", \"Y\", \"B\", \"W\", \"X\"]\n",
        "\n",
        "points = []\n",
        "# write your for loop here\n",
        "for point in zip(labels, x_coord, y_coord, z_coord):\n",
        "    points.append(\"{}: {}, {}, {}\".format(*point))\n",
        "\n",
        "for point in points:\n",
        "    print(point)\n"
      ],
      "metadata": {
        "id": "-JM9n-TNABAp",
        "colab": {
          "base_uri": "https://localhost:8080/"
        },
        "outputId": "9ee6133c-6069-49e8-99ec-d22289f1376c"
      },
      "execution_count": 40,
      "outputs": [
        {
          "output_type": "stream",
          "name": "stdout",
          "text": [
            "F: 23, 677, 4\n",
            "J: 53, 233, 16\n",
            "A: 2, 405, -6\n",
            "Q: -12, 433, -42\n",
            "Y: 95, 905, 3\n",
            "B: 103, 376, -6\n",
            "W: 14, 432, 23\n",
            "X: -5, 445, -1\n"
          ]
        }
      ]
    },
    {
      "cell_type": "code",
      "source": [
        "# QUESTION 9 #\n",
        "# Write a function that accepts list x as an input\n",
        "# and using list comprehensions return a list with squared values\n",
        "# ex:\n",
        "# input -> [1,2,5]\n",
        "# output -> [1,4,25]\n",
        "\n",
        "def func9(x):\n",
        "    b=[]\n",
        "    for x in a:\n",
        "      b.append(x**2)\n",
        "    return b\n",
        "\n",
        "a = [3,5,7,8,3]\n",
        "print(func9(a))"
      ],
      "metadata": {
        "colab": {
          "base_uri": "https://localhost:8080/"
        },
        "id": "e34J5rh2Ae0k",
        "outputId": "39f0ae1b-ee52-4e37-e1fc-a0700c6767da"
      },
      "execution_count": 3,
      "outputs": [
        {
          "output_type": "stream",
          "name": "stdout",
          "text": [
            "[9, 25, 49, 64, 9]\n"
          ]
        }
      ]
    },
    {
      "cell_type": "code",
      "source": [
        "# QUESTION 10 #\n",
        "# Write a function with \"lambda\" expression that\n",
        "# simle power function for example\n",
        "# x: 3 y: 2, calculates 3^2 = 9\n",
        "\n",
        "# YOUR CODE HERE #\n",
        "a = lambda x, y : x ** y\n",
        "print(a(3, 2))"
      ],
      "metadata": {
        "colab": {
          "base_uri": "https://localhost:8080/"
        },
        "id": "m0EhPAxDBF7G",
        "outputId": "b28b187d-39b3-4b11-afdc-610190569f7f"
      },
      "execution_count": 5,
      "outputs": [
        {
          "output_type": "stream",
          "name": "stdout",
          "text": [
            "9\n"
          ]
        }
      ]
    },
    {
      "cell_type": "code",
      "source": [
        "# QUESTION 11 #\n",
        "# Write a function which accepts integer x as input,\n",
        "# Calculates a fibonacci sequence starting from 1\n",
        "# prints x values of the sequence\n",
        "# ex: x = 3\n",
        "# output: 1 1 2\n",
        "def fibo(x):\n",
        "    n1, n2 = 0, 1  \n",
        "    print(\"Fibonacci Series:\", n1, n2, end=\" \")\n",
        "    for i in range(2, x):\n",
        "       n3 = n1 + n2\n",
        "       n1 = n2\n",
        "       n2 = n3\n",
        "       print(n3, end=\" \")\n",
        "\n",
        "fibo(10)"
      ],
      "metadata": {
        "id": "M6QNrj382QoI",
        "colab": {
          "base_uri": "https://localhost:8080/"
        },
        "outputId": "66411432-7724-48a0-c1d9-0661a9b5d5b8"
      },
      "execution_count": 20,
      "outputs": [
        {
          "output_type": "stream",
          "name": "stdout",
          "text": [
            "Fibonacci Series: 0 1 1 2 3 5 8 13 21 34 "
          ]
        }
      ]
    },
    {
      "cell_type": "code",
      "source": [
        "# QUESTION 12 #\n",
        "# Python program to print first 10\n",
        "# prime numbers\n",
        "# A function name prime is defined\n",
        "# using def\n",
        "\n",
        "   \n",
        "def prime(n):   \n",
        "\n",
        "     for num in range(2, n + 1):\n",
        "        i = 2\n",
        "        for i in range(2, num):\n",
        "           if(num % i == 0):\n",
        "              i = num\n",
        "              break;\n",
        "\n",
        "        if(i != num):\n",
        "          print(num, end=\" \")\n",
        " \n",
        "# Driver Code\n",
        "n = 10\n",
        " \n",
        "# print statement\n",
        "print(\"First 10 prime numbers are:  \")\n",
        "prime(n)"
      ],
      "metadata": {
        "colab": {
          "base_uri": "https://localhost:8080/"
        },
        "id": "WsvrWLkvS6P7",
        "outputId": "0212a0f4-a19b-4d9f-c9a5-a221463d858c"
      },
      "execution_count": 29,
      "outputs": [
        {
          "output_type": "stream",
          "name": "stdout",
          "text": [
            "First 10 prime numbers are:  \n",
            "3 5 7 "
          ]
        }
      ]
    },
    {
      "cell_type": "code",
      "source": [
        "# QUESTION 13 #\n",
        "## Ask user's name with the use of def function.\n",
        "\n",
        "def asking_username():\n",
        "        name = str(input(\"What's your name? : \"))\n",
        "        return name\n",
        "print(\"Hello, \" + asking_username().title() + \"!\")"
      ],
      "metadata": {
        "colab": {
          "base_uri": "https://localhost:8080/"
        },
        "id": "jeY00AtTVTuN",
        "outputId": "d9e47ab0-fea0-475d-c5b4-d0223deada12"
      },
      "execution_count": 36,
      "outputs": [
        {
          "output_type": "stream",
          "name": "stdout",
          "text": [
            "What's your name? : İrem\n",
            "Hello, İrem!\n"
          ]
        }
      ]
    },
    {
      "cell_type": "code",
      "source": [
        "# QUESTION 14 #\n",
        "# Program to double each item in a list using map()\n",
        "\n",
        "my_list = [1, 5, 4, 6, 8, 11, 3, 12]\n",
        "\n",
        "# YOUR CODE HERE #\n",
        "new_list = list(map(lambda x: x + x, my_list))\n",
        "print(new_list)"
      ],
      "metadata": {
        "colab": {
          "base_uri": "https://localhost:8080/"
        },
        "id": "C_Ty61Acj1Kt",
        "outputId": "c2b02d68-c9ca-49fb-f9c3-d539ceb42b65"
      },
      "execution_count": 38,
      "outputs": [
        {
          "output_type": "stream",
          "name": "stdout",
          "text": [
            "[2, 10, 8, 12, 16, 22, 6, 24]\n"
          ]
        }
      ]
    },
    {
      "cell_type": "code",
      "source": [
        "# QUESTION 15 #\n",
        "#you could write a lambda function that doubles its argument: lambda x: x*2, \n",
        "#and use it with the map function to double all elements in a list\n",
        "\n",
        "my_list = [1, 2, 3, 4, 5, 6]\n",
        "\n",
        "# YOUR CODE HERE #\n",
        "new_list = list(map(lambda x: x * 2, my_list))\n",
        "print(new_list) # [2, 4, 6, 8, 10, 12]"
      ],
      "metadata": {
        "colab": {
          "base_uri": "https://localhost:8080/"
        },
        "id": "u_vql6RzknE2",
        "outputId": "458ed691-64c3-4f60-bda1-0fb2322c47c8"
      },
      "execution_count": 39,
      "outputs": [
        {
          "output_type": "stream",
          "name": "stdout",
          "text": [
            "[2, 4, 6, 8, 10, 12]\n"
          ]
        }
      ]
    }
  ]
}